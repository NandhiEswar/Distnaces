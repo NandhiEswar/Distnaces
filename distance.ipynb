{
 "cells": [
  {
   "cell_type": "markdown",
   "metadata": {
    "id": "GLXnkHC-D5M6"
   },
   "source": [
    "# Euclidean Distance"
   ]
  },
  {
   "cell_type": "code",
   "execution_count": 1,
   "metadata": {
    "colab": {
     "base_uri": "https://localhost:8080/"
    },
    "id": "Bq1PRVcqDT5l",
    "outputId": "e6919b43-011a-4681-eeb0-36e09b50bef9"
   },
   "outputs": [
    {
     "name": "stdout",
     "output_type": "stream",
     "text": [
      "Eculiden Distance: 5.0\n"
     ]
    }
   ],
   "source": [
    "from scipy.spatial.distance import euclidean\n",
    "\n",
    "point1 = [1,2]\n",
    "point2 = [4,6]\n",
    "\n",
    "euclidean(point1, point2)\n",
    "\n",
    "print(\"Eculiden Distance:\", euclidean(point1, point2))"
   ]
  },
  {
   "cell_type": "markdown",
   "metadata": {
    "id": "JqrpHjHOEo4G"
   },
   "source": [
    "# cosine similarity\n"
   ]
  },
  {
   "cell_type": "code",
   "execution_count": 2,
   "metadata": {
    "colab": {
     "base_uri": "https://localhost:8080/"
    },
    "id": "Ad6ApN7CEtKB",
    "outputId": "10137d2a-a1df-40c6-ed98-56df0e088341"
   },
   "outputs": [
    {
     "name": "stdout",
     "output_type": "stream",
     "text": [
      "Cosine Similarity: [[0.5]]\n"
     ]
    }
   ],
   "source": [
    "from sklearn.metrics.pairwise import cosine_similarity\n",
    "\n",
    "import numpy as np\n",
    "\n",
    "vector1 = np.array([1,0,1]).reshape(1,-1)\n",
    "vector2 = np.array([1,1,0]).reshape(1,-1)\n",
    "\n",
    "similarity = cosine_similarity(vector1, vector2)\n",
    "\n",
    "print(\"Cosine Similarity:\", similarity)"
   ]
  },
  {
   "cell_type": "markdown",
   "metadata": {
    "id": "xxqytejiFKcj"
   },
   "source": [
    "#jaccard similarity"
   ]
  },
  {
   "cell_type": "code",
   "execution_count": 3,
   "metadata": {
    "colab": {
     "base_uri": "https://localhost:8080/"
    },
    "id": "AoYjeXciFTVo",
    "outputId": "f49c8ff1-e3aa-4f01-847b-ea551817332f"
   },
   "outputs": [
    {
     "name": "stdout",
     "output_type": "stream",
     "text": [
      "Jaccard Similarity: 0.25\n"
     ]
    }
   ],
   "source": [
    "from sklearn.metrics import jaccard_score\n",
    "\n",
    "set1 = [1,0,1,1]\n",
    "set2 = [1,1,0,0]\n",
    "\n",
    "similarity = jaccard_score(set1, set2)\n",
    "\n",
    "print(\"Jaccard Similarity:\", similarity)"
   ]
  },
  {
   "cell_type": "markdown",
   "metadata": {
    "id": "ncZ6mSJSFzzg"
   },
   "source": [
    "# Haversine Distance"
   ]
  },
  {
   "cell_type": "code",
   "execution_count": 5,
   "metadata": {
    "colab": {
     "base_uri": "https://localhost:8080/"
    },
    "id": "uLesia0BGIq3",
    "outputId": "33d84932-9d0a-4db2-e988-1893c8d869c2"
   },
   "outputs": [
    {
     "name": "stdout",
     "output_type": "stream",
     "text": [
      "Collecting haversine\n",
      "  Downloading haversine-2.8.1-py2.py3-none-any.whl.metadata (5.9 kB)\n",
      "Downloading haversine-2.8.1-py2.py3-none-any.whl (7.7 kB)\n",
      "Installing collected packages: haversine\n",
      "Successfully installed haversine-2.8.1\n"
     ]
    }
   ],
   "source": [
    "!pip install haversine"
   ]
  },
  {
   "cell_type": "code",
   "execution_count": 6,
   "metadata": {
    "colab": {
     "base_uri": "https://localhost:8080/"
    },
    "id": "fvm_e9gzF2zz",
    "outputId": "c3c3a3c8-5de7-4484-e334-1f9a5f3775c5"
   },
   "outputs": [
    {
     "name": "stdout",
     "output_type": "stream",
     "text": [
      "Haversine Distance: 15.235081626610322\n"
     ]
    }
   ],
   "source": [
    "from haversine import haversine\n",
    "\n",
    "point1 = (12.9716, 77.5946)\n",
    "point2 = (13.0827, 77.6769)\n",
    "\n",
    "distance = haversine(point1, point2)\n",
    "\n",
    "print(\"Haversine Distance:\", distance)\n"
   ]
  },
  {
   "cell_type": "markdown",
   "metadata": {
    "id": "MkquVB7CGR-r"
   },
   "source": [
    "#Hamming Distance"
   ]
  },
  {
   "cell_type": "code",
   "execution_count": 7,
   "metadata": {
    "colab": {
     "base_uri": "https://localhost:8080/"
    },
    "id": "OuUdo5naGUpd",
    "outputId": "5f9811a9-1680-4b9e-9e65-64c56cc76fd0"
   },
   "outputs": [
    {
     "name": "stdout",
     "output_type": "stream",
     "text": [
      "Hamming Distance: 0.75\n"
     ]
    }
   ],
   "source": [
    "from scipy.spatial.distance import hamming\n",
    "\n",
    "set1 = [1,0,1,1]\n",
    "set2 = [1,1,0,0]\n",
    "\n",
    "distance = hamming(set1, set2)\n",
    "\n",
    "print(\"Hamming Distance:\", distance)"
   ]
  },
  {
   "cell_type": "markdown",
   "metadata": {
    "id": "8RZo7g3BGlHO"
   },
   "source": [
    "#manhattan Distance"
   ]
  },
  {
   "cell_type": "code",
   "execution_count": 8,
   "metadata": {
    "colab": {
     "base_uri": "https://localhost:8080/"
    },
    "id": "gS_N6Nu0FPnk",
    "outputId": "32cc9428-89d2-488a-d1eb-d10fd5c46a15"
   },
   "outputs": [
    {
     "name": "stdout",
     "output_type": "stream",
     "text": [
      "Manhattan Distance: 7\n"
     ]
    }
   ],
   "source": [
    "from scipy.spatial.distance import cityblock\n",
    "\n",
    "point1 = [1,2]\n",
    "point2 = [4,6]\n",
    "\n",
    "distance = cityblock(point1, point2)\n",
    "\n",
    "print(\"Manhattan Distance:\", distance)\n"
   ]
  },
  {
   "cell_type": "markdown",
   "metadata": {
    "id": "--mf1SHzG78t"
   },
   "source": [
    "#canberra distance"
   ]
  },
  {
   "cell_type": "code",
   "execution_count": 9,
   "metadata": {
    "colab": {
     "base_uri": "https://localhost:8080/"
    },
    "id": "UuvrdB0OG_QQ",
    "outputId": "13a2c915-493c-41ef-f40f-e0bfabcb7d76"
   },
   "outputs": [
    {
     "name": "stdout",
     "output_type": "stream",
     "text": [
      "Canberra Distance: 1.1\n"
     ]
    }
   ],
   "source": [
    "from scipy.spatial.distance import canberra\n",
    "\n",
    "point1 = [1,2]\n",
    "point2 = [4,6]\n",
    "\n",
    "distance = canberra(point1, point2)\n",
    "\n",
    "print(\"Canberra Distance:\", distance)"
   ]
  },
  {
   "cell_type": "markdown",
   "metadata": {
    "id": "BZKzX8GvHRew"
   },
   "source": [
    "# Minkowski Distance\n"
   ]
  },
  {
   "cell_type": "code",
   "execution_count": 10,
   "metadata": {
    "colab": {
     "base_uri": "https://localhost:8080/"
    },
    "id": "WyaUSBykHVXH",
    "outputId": "78bcfe3c-f646-4d7b-a12a-c8991ee09314"
   },
   "outputs": [
    {
     "name": "stdout",
     "output_type": "stream",
     "text": [
      "Minkowski Distance: 5.0\n"
     ]
    }
   ],
   "source": [
    "from scipy.spatial.distance import minkowski\n",
    "\n",
    "point1 = [1,2]\n",
    "point2 = [4,6]\n",
    "\n",
    "distance = minkowski(point1, point2)\n",
    "\n",
    "print(\"Minkowski Distance:\", distance)"
   ]
  },
  {
   "cell_type": "markdown",
   "metadata": {
    "id": "bufgNBsPHyIl"
   },
   "source": [
    "#chebyshev Distance"
   ]
  },
  {
   "cell_type": "code",
   "execution_count": 12,
   "metadata": {
    "colab": {
     "base_uri": "https://localhost:8080/"
    },
    "id": "l8_8Kv2bH2Xv",
    "outputId": "05fb8558-96f0-4456-d59a-33167e0518d5"
   },
   "outputs": [
    {
     "name": "stdout",
     "output_type": "stream",
     "text": [
      "Chebyshev Distance: 4\n"
     ]
    }
   ],
   "source": [
    "from scipy.spatial.distance import chebyshev\n",
    "\n",
    "point1 = [1,2,4]\n",
    "point2 = [4,6,6]\n",
    "\n",
    "distance = chebyshev(point1, point2)\n",
    "\n",
    "print(\"Chebyshev Distance:\", distance)\n",
    "#"
   ]
  },
  {
   "cell_type": "markdown",
   "metadata": {
    "id": "cZjBwAqIIHm0"
   },
   "source": [
    "#Serensen-Dice Coffiecent"
   ]
  },
  {
   "cell_type": "code",
   "execution_count": 13,
   "metadata": {
    "colab": {
     "base_uri": "https://localhost:8080/"
    },
    "id": "RBc0NnbXIPM-",
    "outputId": "00dfe18f-d82a-4af6-b1c5-e4b1ac1b5d74"
   },
   "outputs": [
    {
     "name": "stdout",
     "output_type": "stream",
     "text": [
      "Serensen-Dice Coefficient: 0.4\n"
     ]
    }
   ],
   "source": [
    "from sklearn.metrics import pairwise_distances\n",
    "import numpy as np\n",
    "\n",
    "set1 = np.array([1,0,1,1])\n",
    "set2 = np.array([1,1,0,0])\n",
    "\n",
    "interpesction = np.sum(set1 & set2)\n",
    "\n",
    "dice = (2 * interpesction) / (np.sum(set1) + np.sum(set2))\n",
    "\n",
    "\n",
    "print(\"Serensen-Dice Coefficient:\", dice)\n",
    "#"
   ]
  }
 ],
 "metadata": {
  "colab": {
   "provenance": []
  },
  "kernelspec": {
   "display_name": "Python 3",
   "name": "python3"
  },
  "language_info": {
   "name": "python"
  }
 },
 "nbformat": 4,
 "nbformat_minor": 0
}
